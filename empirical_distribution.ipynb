{
 "cells": [
  {
   "cell_type": "code",
   "execution_count": 51,
   "metadata": {},
   "outputs": [],
   "source": [
    "import time\n",
    "start_time = time.time()\n",
    "import pandas as pd\n",
    "import numpy as np\n",
    "from statsmodels.distributions.empirical_distribution import ECDF\n",
    "from scipy.stats import skew\n",
    "from scipy.stats import kurtosis\n",
    "from scipy.stats import norm\n",
    "import os\n",
    "import math\n",
    "def thisfname(): #Имя этого блокнота\n",
    "    this_notebook_name = os.path.splitext('dtz-ex7.ipynb')[0]\n",
    "    return this_notebook_name\n",
    "myDataPath = '/Users/veraivanova/Downloads/'"
   ]
  },
  {
   "cell_type": "code",
   "execution_count": 55,
   "metadata": {},
   "outputs": [
    {
     "name": "stdout",
     "output_type": "stream",
     "text": [
      "0.1545342546845266\n"
     ]
    }
   ],
   "source": [
    "def SkewKurtosis(x): # стандартная ошибка эксцесса\n",
    "    w = len(x)\n",
    "    m1=np.mean(x)\n",
    "    m2=sum((x-m1)**2)\n",
    "    m3=sum((x-m1)**3)\n",
    "    m4=sum((x-m1)**4)\n",
    "    s1=np.std(x)\n",
    "    skew=w*m3/(w-1)/(w-2)/s1**3\n",
    "    sdskew=math.sqrt(6*w*(w-1)/((w-2)*(w+1)*(w+3)))\n",
    "    kurt=(w*(w+1)*m4 - 3*m2**2*(w-1)) / ((w-1)*(w-2)*(w-3)*s1**4)\n",
    "    std_kurt=math.sqrt( 4*(w**2-1) * sdskew**2 / ((w-3)*(w+5)) )\n",
    "    return std_kurt\n",
    "\n",
    "n = 200 #240-5*8\n",
    "lvs = [0.1*i for i in range(1, 10)]\n",
    "Lvs = [0.0005*i for i in range(1, 2000)]\n",
    "m = 1000\n",
    "kurt = [0]*m\n",
    "N = np.random.normal(0,1,size=1000) # стандартное нормальное распределение\n",
    "std_kurtosis = []\n",
    "for i in range(m):\n",
    "    samp = np.random.choice(N, n)\n",
    "    kurt[i] = kurtosis(samp, fisher=True, bias=True)  # рассчитываем эксцесс по случайной выборке\n",
    "    std_kurtosis.append(SkewKurtosis(kurt))\n",
    "print(np.mean(std_kurtosis)) # стандартная ошибка эксцесса"
   ]
  },
  {
   "cell_type": "code",
   "execution_count": 44,
   "metadata": {},
   "outputs": [],
   "source": [
    "kurt = np.array(kurt)\n",
    "ecdf = ECDF(kurt)\n",
    "empLaw = ECDF(kurt) # эмпирическое распределение эксцесса\n",
    "file1000 = myDataPath + 'Вектор 1000 квантилей по выборке объёма n =' + str(n) + '.txt'; # создание файлов\n",
    "file9 = myDataPath + 'Табл. 9 квантилей по выборке объёма n =' + str(n) + '.csv';\n",
    "tab1000 = pd.DataFrame()\n",
    "q1000 = [np.quantile(empLaw(Lvs), i) for i in Lvs] # квантили\n",
    "q9 = [np.quantile(empLaw(lvs), i) for i in lvs]"
   ]
  },
  {
   "cell_type": "code",
   "execution_count": 45,
   "metadata": {},
   "outputs": [
    {
     "name": "stdout",
     "output_type": "stream",
     "text": [
      "   levels  empirical distribution\n",
      "0     0.1                   0.898\n",
      "1     0.2                   0.935\n",
      "2     0.3                   0.964\n",
      "3     0.4                   0.984\n",
      "4     0.5                   0.992\n",
      "5     0.6                   0.997\n",
      "6     0.7                   0.999\n",
      "7     0.8                   1.000\n",
      "8     0.9                   1.000\n"
     ]
    }
   ],
   "source": [
    "tab9 = pd.DataFrame({'levels':lvs,'empirical distribution':np.round(q9,3)})\n",
    "print(tab9)"
   ]
  },
  {
   "cell_type": "code",
   "execution_count": 46,
   "metadata": {},
   "outputs": [
    {
     "name": "stdout",
     "output_type": "stream",
     "text": [
      "      levels  empirical distribution\n",
      "0     0.0005                   0.751\n",
      "1     0.0010                   0.752\n",
      "2     0.0015                   0.753\n",
      "3     0.0020                   0.755\n",
      "4     0.0025                   0.755\n",
      "...      ...                     ...\n",
      "1994  0.9975                   1.000\n",
      "1995  0.9980                   1.000\n",
      "1996  0.9985                   1.000\n",
      "1997  0.9990                   1.000\n",
      "1998  0.9995                   1.000\n",
      "\n",
      "[1999 rows x 2 columns]\n"
     ]
    }
   ],
   "source": [
    "tab1000 = pd.DataFrame({'levels':Lvs,'empirical distribution':np.round(q1000,3)})\n",
    "print(tab1000)"
   ]
  },
  {
   "cell_type": "code",
   "execution_count": 47,
   "metadata": {},
   "outputs": [
    {
     "name": "stdout",
     "output_type": "stream",
     "text": [
      "--- 35.89006185531616 seconds ---\n"
     ]
    }
   ],
   "source": [
    "print(\"--- %s seconds ---\" % (time.time() - start_time))"
   ]
  },
  {
   "cell_type": "code",
   "execution_count": null,
   "metadata": {},
   "outputs": [],
   "source": []
  },
  {
   "cell_type": "code",
   "execution_count": 27,
   "metadata": {},
   "outputs": [],
   "source": [
    "tab1000.to_csv(file1000,\n",
    "               index=False, decimal=',', sep=';', encoding='UTF-8')"
   ]
  },
  {
   "cell_type": "code",
   "execution_count": null,
   "metadata": {},
   "outputs": [],
   "source": [
    "tab9.to_csv(file9,\n",
    "               index=False, decimal=',', sep=';', encoding='UTF-8')"
   ]
  }
 ],
 "metadata": {
  "kernelspec": {
   "display_name": "Python 3",
   "language": "python",
   "name": "python3"
  },
  "language_info": {
   "codemirror_mode": {
    "name": "ipython",
    "version": 3
   },
   "file_extension": ".py",
   "mimetype": "text/x-python",
   "name": "python",
   "nbconvert_exporter": "python",
   "pygments_lexer": "ipython3",
   "version": "3.7.6"
  }
 },
 "nbformat": 4,
 "nbformat_minor": 4
}
